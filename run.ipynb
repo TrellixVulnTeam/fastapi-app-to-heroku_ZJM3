{
 "cells": [
  {
   "cell_type": "code",
   "execution_count": 1,
   "metadata": {},
   "outputs": [
    {
     "name": "stdout",
     "output_type": "stream",
     "text": [
      "Python 3.10.4\n"
     ]
    }
   ],
   "source": [
    "!python -V"
   ]
  },
  {
   "cell_type": "code",
   "execution_count": 2,
   "metadata": {},
   "outputs": [],
   "source": [
    "!python -m venv fastapi"
   ]
  },
  {
   "cell_type": "code",
   "execution_count": 1,
   "metadata": {},
   "outputs": [],
   "source": [
    "!fastapi\\Scripts\\activate"
   ]
  },
  {
   "cell_type": "code",
   "execution_count": null,
   "metadata": {},
   "outputs": [],
   "source": [
    "!python -m pip install --upgrade pip"
   ]
  },
  {
   "cell_type": "code",
   "execution_count": 2,
   "metadata": {},
   "outputs": [
    {
     "name": "stdout",
     "output_type": "stream",
     "text": [
      "Requirement already satisfied: fastapi in .\\fastapi\\lib\\site-packages (0.79.0)Note: you may need to restart the kernel to use updated packages.\n",
      "\n",
      "Requirement already satisfied: pydantic!=1.7,!=1.7.1,!=1.7.2,!=1.7.3,!=1.8,!=1.8.1,<2.0.0,>=1.6.2 in .\\fastapi\\lib\\site-packages (from fastapi) (1.9.1)\n",
      "Requirement already satisfied: starlette==0.19.1 in .\\fastapi\\lib\\site-packages (from fastapi) (0.19.1)\n",
      "Requirement already satisfied: anyio<5,>=3.4.0 in .\\fastapi\\lib\\site-packages (from starlette==0.19.1->fastapi) (3.6.1)\n",
      "Requirement already satisfied: typing-extensions>=3.7.4.3 in .\\fastapi\\lib\\site-packages (from pydantic!=1.7,!=1.7.1,!=1.7.2,!=1.7.3,!=1.8,!=1.8.1,<2.0.0,>=1.6.2->fastapi) (4.3.0)\n",
      "Requirement already satisfied: idna>=2.8 in .\\fastapi\\lib\\site-packages (from anyio<5,>=3.4.0->starlette==0.19.1->fastapi) (3.3)\n",
      "Requirement already satisfied: sniffio>=1.1 in .\\fastapi\\lib\\site-packages (from anyio<5,>=3.4.0->starlette==0.19.1->fastapi) (1.2.0)\n"
     ]
    }
   ],
   "source": [
    "%pip install fastapi"
   ]
  },
  {
   "cell_type": "code",
   "execution_count": null,
   "metadata": {},
   "outputs": [],
   "source": [
    "%pip install uvicorn\n",
    "%pip install gunicorn\n"
   ]
  },
  {
   "cell_type": "code",
   "execution_count": null,
   "metadata": {},
   "outputs": [],
   "source": [
    "%%pip freeze > requirements.txt"
   ]
  },
  {
   "cell_type": "markdown",
   "metadata": {},
   "source": [
    "%pip install line-bot-sdk\n",
    "%pip install numpy\n",
    "%pip install pandas"
   ]
  }
 ],
 "metadata": {
  "kernelspec": {
   "display_name": "Python 3.10.4 ('fastapi': venv)",
   "language": "python",
   "name": "python3"
  },
  "language_info": {
   "codemirror_mode": {
    "name": "ipython",
    "version": 3
   },
   "file_extension": ".py",
   "mimetype": "text/x-python",
   "name": "python",
   "nbconvert_exporter": "python",
   "pygments_lexer": "ipython3",
   "version": "3.10.4"
  },
  "orig_nbformat": 4,
  "vscode": {
   "interpreter": {
    "hash": "4d65117a2683fb6862b6ea586072e2189d37009f89669bad5bc62ef3a9392426"
   }
  }
 },
 "nbformat": 4,
 "nbformat_minor": 2
}
